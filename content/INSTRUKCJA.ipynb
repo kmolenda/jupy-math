{
 "cells": [
  {
   "cell_type": "markdown",
   "metadata": {},
   "source": [
    "<div style=\"text-align: right\">\n",
    "    <svg style=\"width:24px;height:24px\" xmlns=\"http://www.w3.org/2000/svg\" viewBox=\"0 0 100 100\" stroke=\"none\"><g id=\"icon\"><path fill=\"currentColor\" d=\"M23.8,54.8v-3.6l4.7-0.8V17.5l-4.7-0.8V13H36l13.4,31.7h0.2l13-31.7h12.6v3.6l-4.7,0.8v32.9l4.7,0.8v3.6h-15\n",
    "    v-3.6l4.9-0.8V20.8H65L51.4,53.3h-3.8l-14-32.5h-0.1l0.2,17.4v12.1l5,0.8v3.6H23.8z\"></path><path fill=\"#F37726\" d=\"M47,86.9c0-5.9-3.4-8.8-10.1-8.8h-8.4c-5.2,0-9.4-1.3-12.5-3.8c-3.1-2.5-5.4-6.2-6.8-11l4.8-1.6\n",
    "    c1.8,5.6,6.4,8.6,13.8,8.8h9.2c6.4,0,10.8,2.5,13.1,7.5c2.3-5,6.7-7.5,13.1-7.5h8.4c7.8,0,12.7-2.9,14.6-8.7l4.8,1.6\n",
    "    c-1.4,4.9-3.6,8.6-6.8,11.1c-3.1,2.5-7.3,3.7-12.4,3.8H63c-6.7,0-10,2.9-10,8.8\"></path></g></svg> Made with MyST\n",
    "</div>"
   ]
  },
  {
   "cell_type": "markdown",
   "metadata": {},
   "source": [
    "# Instrukcja\n"
   ]
  },
  {
   "cell_type": "markdown",
   "metadata": {},
   "source": [
    "- Krzysztof Molenda, 25.03.2025\n",
    "\n",
    "Wersja przeglądarkowa JupyterLab, zbudowana na bazie: [![lite-badge](https://jupyterlite.rtfd.io/en/latest/_static/badge.svg)](https://jupyterlite.github.io/demo). Nie wymaga instalowania czegokolwiek na lokalnym komputerze. Nie wymaga też rejestracji. Kod uruchamiany jest w przeglądarce, a nie na serwerze (technologia WASM). Wersja ta jest przeznaczona do ćwiczeń i nie wymaga instalacji JupyterLab ani Pythona na lokalnym komputerze.\n",
    "\n",
    "Wersja dostosowana jest do prowadzania ćwiczeń - wymagane pakiety zostały preinstalowane.\n",
    "\n",
    "Publikowane dokumenty wykorzystują MyST Markdown, który jest rozszerzeniem Markdown. W przypadku otwarcia dokumentu w innych środowiskach niektóre treści mogą być niepoprawnie wyświetlane, ale nadal powinny być czytelne, zaś kod powinien działać poprawnie.\n",
    "\n",
    "## Wymagania\n",
    "\n",
    "- Firefox 90+\n",
    "\n",
    "- Chromium 89+ (Chrome/Edge)"
   ]
  },
  {
   "cell_type": "markdown",
   "metadata": {},
   "source": [
    "## Wykorzystanie\n",
    "\n",
    "- Tworzone dokumenty przechowywane są na lokalnym komputerze (w cache'u przeglądarki). Można je utrwalić pobierając na lokalny komputer (<code>Download</code>).\n",
    "\n",
    "- Cache przeglądarki jest nietrwałą pamięcią, więc po zamknięciu przeglądarki i wyczyszczeniu cache'u, dokumenty zostaną utracone. Jeśli jednak cache nie zostanie wyczyszczony, dokumenty będą dostępne po ponownym uruchomieniu przeglądarki.\n",
    "\n",
    "- Można zainstalować JupyterLite jako aplikację PWA (Progressive Web App) na komputerze. W tym celu należy:\n",
    "\n",
    "  - Kliknąć w ikonę \"Zainstaluj aplikację\" w prawym górnym rogu przeglądarki\n",
    "\n",
    "  - Aplikacja zostanie zainstalowana na komputerze i będzie dostępna w menu startowym\n",
    "\n",
    "  - Nadal będzie to przeglądarkowa wersja JupyterLite, ale będzie można ją uruchomić jako aplikację PWA\n",
    "\n",
    "- Do środowiska można przesłać lokalne pliki (ikona <code>Upload</code>) i otworzyć je w JupyterLite. Pliki można również przesłać do środowiska wskazując na adres URL (menu <code>File</code>).\n",
    "\n",
    "- Utworzone pliki w środowisku będą przechowywane w cache'u przeglądarki do momentu jego wyczyszczenia.\n",
    "\n",
    "- W środowisku mogą być udostępnione różne pliki wymagane do realizacji ćwiczeń. Pliki te można modyfikować. Uruchomienie kodu będzie dotyczyło ich zmodyfikowanych wersji. Usunięcie takiego \"predefiniowanego\" pliku spowoduje, że jego zawartość zostanie przywrócona do stanu pierwotnego."
   ]
  },
  {
   "cell_type": "markdown",
   "metadata": {},
   "source": [
    "%MyST\n",
    "\n",
    ":::{warning}\n",
    "Jest to wersja eksperymentalna\n",
    ":::"
   ]
  }
 ],
 "metadata": {
  "kernelspec": {
   "display_name": "Python 3",
   "language": "python",
   "name": "python3"
  },
  "language_info": {
   "name": "python",
   "version": "3.13.1"
  }
 },
 "nbformat": 4,
 "nbformat_minor": 2
}
