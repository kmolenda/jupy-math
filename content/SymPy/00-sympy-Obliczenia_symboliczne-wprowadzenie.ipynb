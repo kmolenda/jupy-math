{
  "metadata": {
    "kernelspec": {
      "name": "python",
      "display_name": "Python (Pyodide)",
      "language": "python"
    },
    "language_info": {
      "codemirror_mode": {
        "name": "python",
        "version": 3
      },
      "file_extension": ".py",
      "mimetype": "text/x-python",
      "name": "python",
      "nbconvert_exporter": "python",
      "pygments_lexer": "ipython3",
      "version": "3.8"
    },
    "anaconda-cloud": {},
    "celltoolbar": "Tags",
    "interpreter": {
      "hash": "72c083a8e491fbc15c600f6be68bc5c966981d7b165d798b5fd0f5e4aaba6386"
    },
    "colab": {
      "name": "Obliczenia-symboliczne-Sympy.ipynb",
      "provenance": [],
      "include_colab_link": true
    }
  },
  "nbformat_minor": 4,
  "nbformat": 4,
  "cells": [
    {
      "cell_type": "markdown",
      "source": "",
      "metadata": {
        "id": "view-in-github",
        "colab_type": "text"
      }
    },
    {
      "cell_type": "markdown",
      "source": "# Obliczenia symboliczne z pakietem Sympy\n\n* Krzysztof Molenda, 25.03.2025\n\n[Sympy](http://www.sympy.org/en/index.html) jest opisana jako:\n\n> \"... Python library for symbolic mathematics.\"\n\nOznacza to, że może być wykorzystana, między innymi do:\n\n- tworzenia i modyfikowania symbolicznych wyrażeń matematycznych;\n- symbolicznego rozwiązywania równań (i układów równań);\n- wykonywania operacji rachunku różniczkowego (granice, pochodne, całki, równania różniczkowe), stosując symboliczne przekształcenia;\n- rysowania funkcji opisanych symbolicznie.\n\nMa jeszcze wiele więcej możliwości, z którymi można zapoznać się na stronie: <http://www.sympy.org/en/index.html>\n\n## Budowanie wyrażeń symbolicznych (wzorów)\n\nAby móc wykonywać obliczenia symboliczne, należy w swoim środowisku Python + Jupyter Notebook zainstalować bibliotekę `sympy`.\n\nW notatniku, w pierwszym kroku należy zaimportować tę bibliotekę.",
      "metadata": {
        "id": "z87vkMhfkqPL"
      }
    },
    {
      "cell_type": "code",
      "source": "import sympy as sym",
      "metadata": {
        "dotnet_interactive": {
          "language": "csharp"
        },
        "id": "wUQ_YlDykqPn",
        "trusted": true,
        "jupyter": {
          "source_hidden": true,
          "outputs_hidden": true
        },
        "collapsed": true
      },
      "outputs": [],
      "execution_count": null
    },
    {
      "cell_type": "markdown",
      "source": "Zaimportowanie tej biblioteki pozwoli na używanie jej komend (poprzedzonych skrótem `sym` - taki jest zwyczaj).",
      "metadata": {
        "id": "gRmW8RadkqQD"
      }
    },
    {
      "cell_type": "markdown",
      "source": "Jeśli będziemy chcieli wprowadzić wyrażenie symboliczne, **musimy** zadeklarować wykorzystane w nim symbole (zmienne):",
      "metadata": {
        "id": "zxLUhD_IkqQG"
      }
    },
    {
      "cell_type": "code",
      "source": "x = sym.symbols('x')",
      "metadata": {
        "dotnet_interactive": {
          "language": "csharp"
        },
        "id": "TGE9bX6xkqQI",
        "trusted": true,
        "jupyter": {
          "source_hidden": true,
          "outputs_hidden": true
        },
        "collapsed": true
      },
      "outputs": [],
      "execution_count": null
    },
    {
      "cell_type": "markdown",
      "source": "Teraz możemy wprowadzić $x^2 - x$:",
      "metadata": {
        "id": "FQRk2IPXkqQM"
      }
    },
    {
      "cell_type": "code",
      "source": "x**2 - x",
      "metadata": {
        "dotnet_interactive": {
          "language": "csharp"
        },
        "colab": {
          "base_uri": "https://localhost:8080/",
          "height": 39
        },
        "id": "rmi-0V8vkqQR",
        "outputId": "86e5bab7-b33b-4d51-cbf4-702716d9d4d7",
        "trusted": true,
        "jupyter": {
          "source_hidden": true,
          "outputs_hidden": true
        },
        "collapsed": true
      },
      "outputs": [],
      "execution_count": null
    },
    {
      "cell_type": "markdown",
      "source": "Sprawdźmy, czy poniższe wyrażenie jest prawdziwe:\n\n$$(a + b) ^ 2 = a ^ 2 + 2ab + b ^2$$\n\nNajpierw, zadeklarować musimy zmienne symboliczne $a, b$:",
      "metadata": {
        "id": "-81wQuzakqQX"
      }
    },
    {
      "cell_type": "code",
      "source": "a, b = sym.symbols('a, b')",
      "metadata": {
        "dotnet_interactive": {
          "language": "csharp"
        },
        "id": "6c-m_VpAkqQe",
        "trusted": true,
        "jupyter": {
          "source_hidden": true,
          "outputs_hidden": true
        },
        "collapsed": true
      },
      "outputs": [],
      "execution_count": null
    },
    {
      "cell_type": "markdown",
      "source": "Teraz zapiszemy przy ich pomocy wyrażenie:",
      "metadata": {
        "id": "C1aJfFFGkqQj"
      }
    },
    {
      "cell_type": "code",
      "source": "expr = (a + b) ** 2\nexpr",
      "metadata": {
        "dotnet_interactive": {
          "language": "csharp"
        },
        "colab": {
          "base_uri": "https://localhost:8080/",
          "height": 39
        },
        "id": "Eb-8I8IbkqQk",
        "outputId": "c984ecb6-5deb-47f9-d3ba-11b3a202ec42",
        "trusted": true,
        "jupyter": {
          "source_hidden": true,
          "outputs_hidden": true
        },
        "collapsed": true
      },
      "outputs": [],
      "execution_count": null
    },
    {
      "cell_type": "markdown",
      "source": "Wyrażenie to możemy rozwinąć (`expand`):",
      "metadata": {
        "id": "PEBGbpUTkqRD"
      }
    },
    {
      "cell_type": "code",
      "source": "expr.expand()",
      "metadata": {
        "dotnet_interactive": {
          "language": "csharp"
        },
        "colab": {
          "base_uri": "https://localhost:8080/",
          "height": 39
        },
        "id": "rnLkC_qhkqRE",
        "outputId": "7ab9a9f2-777a-450c-be9e-79e01e84824b",
        "trusted": true,
        "jupyter": {
          "source_hidden": true,
          "outputs_hidden": true
        },
        "collapsed": true
      },
      "outputs": [],
      "execution_count": null
    },
    {
      "cell_type": "markdown",
      "source": "Zatem pokazaliśmy, że $(a+b)^2$ po rozwinięciu równe jest $a^{2} + 2 a b + b^{2}$",
      "metadata": {
        "id": "9tYoTaExoONl"
      }
    },
    {
      "cell_type": "markdown",
      "source": "SymPy pozwala generować zapis $\\LaTeX$ :",
      "metadata": {
        "id": "GJ575NoEkqRF"
      }
    },
    {
      "cell_type": "code",
      "source": "sym.latex(expr.expand())",
      "metadata": {
        "dotnet_interactive": {
          "language": "csharp"
        },
        "colab": {
          "base_uri": "https://localhost:8080/",
          "height": 35
        },
        "id": "hwRJKEZikqRH",
        "outputId": "f955d5d7-848f-4db0-ab47-926f3e404a09",
        "trusted": true,
        "jupyter": {
          "source_hidden": true,
          "outputs_hidden": true
        },
        "collapsed": true
      },
      "outputs": [],
      "execution_count": null
    },
    {
      "cell_type": "markdown",
      "source": ":::{admonition} Ćwiczenie 1\n\nZweryfikuj prawdziwość poniższych równań:\n\n- $(a - b) ^ 2 = a ^ 2 - 2 a b + b^2$\n- $a ^ 2 - b ^ 2 = (a - b) (a + b)$ (Podpowiedź: zamiast `expand`, użyj `factor`)\n:::",
      "metadata": {
        "id": "dCsDSrgvkqRI"
      }
    },
    {
      "cell_type": "code",
      "source": "# wpisz kod",
      "metadata": {
        "id": "h-J6fYegoMip",
        "trusted": true,
        "jupyter": {
          "source_hidden": true,
          "outputs_hidden": true
        },
        "collapsed": true
      },
      "outputs": [],
      "execution_count": null
    },
    {
      "cell_type": "markdown",
      "source": "## Symboliczne rozwiązywanie równań",
      "metadata": {
        "id": "AfRumGNIkqRN"
      }
    },
    {
      "cell_type": "markdown",
      "source": "Możemy wykorzystać SymPy do symbolicznego rozwizywania równań. Przykład - równanie kwadratowe:\n\n$$a x ^ 2 + b x + c = 0$$",
      "metadata": {
        "id": "cit4kvNOkqRO"
      }
    },
    {
      "cell_type": "code",
      "source": "# deklaracja zmiennych symbolicznych dla potrzeb SymPy\na, b, c, x = sym.symbols('a, b, c, x')",
      "metadata": {
        "dotnet_interactive": {
          "language": "csharp"
        },
        "id": "9EWUxFi5kqRP",
        "trusted": true,
        "jupyter": {
          "source_hidden": true,
          "outputs_hidden": true
        },
        "collapsed": true
      },
      "outputs": [],
      "execution_count": null
    },
    {
      "cell_type": "markdown",
      "source": "Metoda `solveset` pakietu `sympy`. Pierwszy argument jest wyrażeniem, dla którego wyznaczać będziemy pierwiastki (czyli porównywać do $0$). Drugi argument - zmienna według której wyznaczane będzie rozwiązanie.",
      "metadata": {
        "id": "2spiFhcbkqRQ"
      }
    },
    {
      "cell_type": "code",
      "source": "sym.solveset(a * x ** 2 + b * x + c, x)",
      "metadata": {
        "dotnet_interactive": {
          "language": "csharp"
        },
        "colab": {
          "base_uri": "https://localhost:8080/",
          "height": 68
        },
        "id": "u0JeJaypkqRS",
        "outputId": "9afb8842-b29b-4fd7-f414-357affbb42a4",
        "trusted": true,
        "jupyter": {
          "source_hidden": true,
          "outputs_hidden": true
        },
        "collapsed": true
      },
      "outputs": [],
      "execution_count": null
    },
    {
      "cell_type": "markdown",
      "source": ":::{admonition} Ćwiczenie 2\nUżyj SymPy do wyznaczenia rozwiązania równania stopnia trzeciego:\n\n$$a x ^ 3 + b x ^ 2 + c  x + d = 0$$\n:::",
      "metadata": {
        "id": "Uo-QVGkukqRV"
      }
    },
    {
      "cell_type": "code",
      "source": "# wpisz kod",
      "metadata": {
        "id": "rE77mE_mptqK",
        "trusted": true,
        "jupyter": {
          "source_hidden": true,
          "outputs_hidden": true
        },
        "collapsed": true
      },
      "outputs": [],
      "execution_count": null
    },
    {
      "cell_type": "markdown",
      "source": "Metoda `solveset` może przyjąć więcej argumentów, na przykład ogranmiczenia przestrzeni rozwiązań. Przykładowo poniższe równanie w zbiorze $\\mathbb{R}$ nie ma rozwiązań:\n\n$$x^2 + 1 = 0$$",
      "metadata": {
        "id": "p09IBLLwkqRY"
      }
    },
    {
      "cell_type": "code",
      "source": "sym.solveset(x ** 2 + 1, x, domain=sym.S.Reals)",
      "metadata": {
        "dotnet_interactive": {
          "language": "csharp"
        },
        "colab": {
          "base_uri": "https://localhost:8080/",
          "height": 37
        },
        "id": "vCONOup9kqRb",
        "outputId": "604cace4-12b6-46ad-ceb1-73cadb0c4436",
        "trusted": true,
        "jupyter": {
          "source_hidden": true,
          "outputs_hidden": true
        },
        "collapsed": true
      },
      "outputs": [],
      "execution_count": null
    },
    {
      "cell_type": "markdown",
      "source": ":::{admonition} Ćwiczenie 3\nWykorzystaj SymPy do rozwiązania poniższych równań:\n\n- $x ^ 2 = 2$ w zbiorze $\\mathbb{N}$\n- $x ^ 3 + 2 x = 0$ w zbiorze $\\mathbb{R}$\n:::",
      "metadata": {
        "id": "C7CsFOlYkqRe"
      }
    },
    {
      "cell_type": "code",
      "source": "# wpisz kod",
      "metadata": {
        "id": "pcTVyETZqmut",
        "trusted": true,
        "jupyter": {
          "source_hidden": true,
          "outputs_hidden": true
        },
        "collapsed": true
      },
      "outputs": [],
      "execution_count": null
    },
    {
      "cell_type": "markdown",
      "source": "## Analiza matematyczna\n\nObliczanie granicy funkcji, np.:\n\n$$\\lim_{x\\to 0^+}\\frac{1}{x}$$",
      "metadata": {
        "id": "IYAhB6sBkqRg"
      }
    },
    {
      "cell_type": "code",
      "source": "sym.limit(1/x, x, 0, dir=\"+\")",
      "metadata": {
        "dotnet_interactive": {
          "language": "csharp"
        },
        "colab": {
          "base_uri": "https://localhost:8080/",
          "height": 37
        },
        "id": "rQnBn-fvkqRh",
        "outputId": "d61d417d-0b8a-461f-ce31-ac30bca38370",
        "trusted": true,
        "jupyter": {
          "source_hidden": true,
          "outputs_hidden": true
        },
        "collapsed": true
      },
      "outputs": [],
      "execution_count": null
    },
    {
      "cell_type": "markdown",
      "source": ":::{admonition} Ćwiczenie 4\nOblicz granice:\n\n1. $\\lim_{x\\to 0^-}\\frac{1}{x}$\n2.  $\\lim_{x\\to 0}\\frac{1}{x^2}$\n:::",
      "metadata": {
        "id": "JaAhvdWOkqRh"
      }
    },
    {
      "cell_type": "markdown",
      "source": "Obliczanie pochodnych, np.:\n\n$$\\left( x ^ 2 - \\cos(x) \\right)'$$",
      "metadata": {
        "id": "XvSpT0CxkqRj"
      }
    },
    {
      "cell_type": "code",
      "source": "sym.diff(x ** 2 - sym.cos(x), x)",
      "metadata": {
        "dotnet_interactive": {
          "language": "csharp"
        },
        "colab": {
          "base_uri": "https://localhost:8080/",
          "height": 39
        },
        "id": "e0maczrpkqRl",
        "outputId": "38183f93-0162-48ab-a577-58195d3ffff1",
        "trusted": true,
        "jupyter": {
          "source_hidden": true,
          "outputs_hidden": true
        },
        "collapsed": true
      },
      "outputs": [],
      "execution_count": null
    },
    {
      "cell_type": "markdown",
      "source": "Obliczanie całek nieoznaczonych, np. $∫x^2-\\cos x\\;dx$:",
      "metadata": {
        "id": "RK4DQMbzkqRp"
      }
    },
    {
      "cell_type": "code",
      "source": "sym.integrate(x ** 2 - sym.cos(x), x)",
      "metadata": {
        "dotnet_interactive": {
          "language": "csharp"
        },
        "colab": {
          "base_uri": "https://localhost:8080/",
          "height": 54
        },
        "id": "zRRZhSZOkqRq",
        "outputId": "676737d8-1ee7-4f77-96f9-11be44c2b45c",
        "trusted": true,
        "jupyter": {
          "source_hidden": true,
          "outputs_hidden": true
        },
        "collapsed": true
      },
      "outputs": [],
      "execution_count": null
    },
    {
      "cell_type": "markdown",
      "source": "Obliczanie całek oznaczonych, np. $$∫_{0}^{5}  x^2-\\cos x\\;dx$$",
      "metadata": {
        "id": "7h34mr9RkqRr"
      }
    },
    {
      "cell_type": "code",
      "source": "wynik = sym.integrate(x ** 2 - sym.cos(x), (x, 0, 5))\nwynik",
      "metadata": {
        "dotnet_interactive": {
          "language": "csharp"
        },
        "colab": {
          "base_uri": "https://localhost:8080/",
          "height": 51
        },
        "id": "pBHmUY8UkqRs",
        "outputId": "736cdce8-dfd4-4c3a-f287-3b14db23f7a5",
        "trusted": true,
        "jupyter": {
          "source_hidden": true,
          "outputs_hidden": true
        },
        "collapsed": true
      },
      "outputs": [],
      "execution_count": null
    },
    {
      "cell_type": "code",
      "source": "float(wynik)",
      "metadata": {
        "colab": {
          "base_uri": "https://localhost:8080/"
        },
        "id": "sxBKgXPpsD74",
        "outputId": "51305be4-006d-4cf1-987b-812607ea24e9",
        "trusted": true,
        "jupyter": {
          "source_hidden": true,
          "outputs_hidden": true
        },
        "collapsed": true
      },
      "outputs": [],
      "execution_count": null
    },
    {
      "cell_type": "markdown",
      "source": ":::{admonition} Ćwiczenie 5\nUżyj SymPy do obliczenia:\n\n1. $\\frac{d\\sin(x ^2)}{dx}$\n2. $\\frac{d(x ^2 + xy - \\ln(y))}{dy}$\n3. $\\int e^x \\cos(x)\\;dx$\n4. $\\int_0^5 e^{2x}\\;dx$\n:::",
      "metadata": {
        "id": "3yI-D2-2kqRt"
      }
    },
    {
      "cell_type": "code",
      "source": "# wpisz kod",
      "metadata": {
        "id": "qZXUOG-fdPWN",
        "trusted": true,
        "jupyter": {
          "source_hidden": true,
          "outputs_hidden": true
        },
        "collapsed": true
      },
      "outputs": [],
      "execution_count": null
    },
    {
      "cell_type": "markdown",
      "source": "## Wykresy z SymPy\n\nSymPy może posłużyć do wykreślania funkcji (wykorzystuje [matplotlib](http://matplotlib.org/)).\n\nPrzed uruchomieniem kreślenia w Jupyter notebook, trzeba zaimportować `matplotlib`:",
      "metadata": {
        "id": "_i2mRfpgkqRu"
      }
    },
    {
      "cell_type": "code",
      "source": "import matplotlib\n%matplotlib inline",
      "metadata": {
        "dotnet_interactive": {
          "language": "csharp"
        },
        "id": "hhadJbkWkqRv",
        "trusted": true,
        "jupyter": {
          "source_hidden": true,
          "outputs_hidden": true
        },
        "collapsed": true
      },
      "outputs": [],
      "execution_count": null
    },
    {
      "cell_type": "markdown",
      "source": "Parabola $x^2$:",
      "metadata": {
        "id": "LilZDaH3kqRw"
      }
    },
    {
      "cell_type": "code",
      "source": "expr = x ** 2\np = sym.plot(expr);",
      "metadata": {
        "dotnet_interactive": {
          "language": "csharp"
        },
        "tags": [
          "nbval-ignore-output"
        ],
        "colab": {
          "base_uri": "https://localhost:8080/",
          "height": 484
        },
        "id": "99V2mBbLkqRx",
        "outputId": "effd4d99-cfdd-4d23-d702-326ed6e1e0bf",
        "trusted": true,
        "jupyter": {
          "source_hidden": true,
          "outputs_hidden": true
        },
        "collapsed": true
      },
      "outputs": [],
      "execution_count": null
    },
    {
      "cell_type": "markdown",
      "source": ":::{admonition} Ćwiczenie 6\nNarysuj wykresy funkcji:\n\n- $y=x + cos(x)$\n- $y=x ^ 2 - e^x$ (być może przyda się `ylim` jako argument)\n\nEksperymentuj z wykresami.\n:::",
      "metadata": {
        "id": "KA0H7rlikqR0"
      }
    },
    {
      "cell_type": "code",
      "source": "# wprowadź kod",
      "metadata": {
        "id": "HE_nuv66dZpG",
        "trusted": true,
        "jupyter": {
          "source_hidden": true,
          "outputs_hidden": true
        },
        "collapsed": true
      },
      "outputs": [],
      "execution_count": null
    },
    {
      "cell_type": "markdown",
      "source": "## Wykresy - jak to zrobić",
      "metadata": {
        "id": "rTde_BzTuW7z"
      }
    },
    {
      "cell_type": "markdown",
      "source": "Wykres dla danych próbkowanych (`numpy` - numeryczny Python, `linspace` - próbkowanie liniowe wartości z podanego zakresu).",
      "metadata": {
        "id": "Ee9NlzGSvJG6"
      }
    },
    {
      "cell_type": "code",
      "source": "import matplotlib.pyplot as plt\nimport numpy as np\n\nx = np.linspace(-40, 40, 1000) # w przedziale [-40, 40] wygeneruj 1000 punktów równo oddalonych od siebie\ny = x ** 2 + 3 * x + 1         # dla listy punków `x` wyznacz listę wartości `y`\nplt.figure()                   # przygotuj wykres\nplt.plot(x, y);                # kreśl wykres",
      "metadata": {
        "colab": {
          "base_uri": "https://localhost:8080/",
          "height": 430
        },
        "id": "1R-yZF8BvDHM",
        "outputId": "58599ab1-837d-4985-eeee-2c880cf20a44",
        "trusted": true,
        "jupyter": {
          "source_hidden": true,
          "outputs_hidden": true
        },
        "collapsed": true
      },
      "outputs": [],
      "execution_count": null
    },
    {
      "cell_type": "code",
      "source": "# nakładanie wykresów\nimport matplotlib.pyplot as plt\nimport numpy as np\n\nx = np.linspace(-10, 10, 1000)\nf = np.cos(x)\ng = np.sin(x)\nplt.figure()\nplt.plot(x, f)\nplt.plot(x, g, color=\"red\");",
      "metadata": {
        "colab": {
          "base_uri": "https://localhost:8080/",
          "height": 430
        },
        "id": "s4SZ4OzRvg1R",
        "outputId": "06f96cbc-1427-46d8-f6df-8c635eae2ebe",
        "jupyter": {
          "source_hidden": true,
          "outputs_hidden": true
        },
        "trusted": true,
        "collapsed": true
      },
      "outputs": [],
      "execution_count": null
    },
    {
      "cell_type": "code",
      "source": "# dodawanie tytułu\nimport matplotlib.pyplot as plt\nimport numpy as np\n\nx = np.linspace(-10, 10, 1000)\nf = np.cos(x)\nplt.figure()\nplt.plot(x, f)\nplt.title(\"Wykres cos(x)\");",
      "metadata": {
        "colab": {
          "base_uri": "https://localhost:8080/",
          "height": 452
        },
        "id": "3rrBrhpjvmwk",
        "outputId": "4c5a87a5-c1fd-478d-ea1d-3840ead4e4d8",
        "jupyter": {
          "source_hidden": true,
          "outputs_hidden": true
        },
        "trusted": true,
        "collapsed": true
      },
      "outputs": [],
      "execution_count": null
    },
    {
      "cell_type": "code",
      "source": "# uzywanie LaTeX w opisach\nimport matplotlib.pyplot as plt\nimport numpy as np\n\nx = np.linspace(-10, 10, 1000)\nf = np.sin(x)/x\nplt.figure()\nplt.plot(x, f)\nplt.title(\"Wykres: $\\\\frac{sin(x)}{x}$\");",
      "metadata": {
        "colab": {
          "base_uri": "https://localhost:8080/",
          "height": 459
        },
        "id": "tZkwrEy7v4Bl",
        "outputId": "0fc16fd2-b5c6-4d1c-b700-1435fdebcd69",
        "jupyter": {
          "source_hidden": true,
          "outputs_hidden": true
        },
        "trusted": true,
        "collapsed": true
      },
      "outputs": [],
      "execution_count": null
    },
    {
      "cell_type": "code",
      "source": "# nazwy osi\nimport matplotlib.pyplot as plt\nimport numpy as np\n\nx = np.linspace(-10, 10, 1000)\nf = np.cos(x)\nplt.figure()\nplt.plot(x, f)\nplt.xlabel(\"$x$\")\nplt.ylabel(\"$y$\");",
      "metadata": {
        "colab": {
          "base_uri": "https://localhost:8080/",
          "height": 449
        },
        "id": "f7c-1QuJxEab",
        "outputId": "0b5e44b4-c6cc-439e-ac02-66f6fdcc5602",
        "jupyter": {
          "source_hidden": true,
          "outputs_hidden": true
        },
        "trusted": true,
        "collapsed": true
      },
      "outputs": [],
      "execution_count": null
    },
    {
      "cell_type": "code",
      "source": "# dodawanie legendy\nimport matplotlib.pyplot as plt\nimport numpy as np\n\nx = np.linspace(-10, 10, 1000)\nf = np.cos(x)\ng = np.sin(x)\nplt.figure()\nplt.plot(x, f, label=\"$cos(x)$\")\nplt.plot(x, g, label=\"$sin(x)$\", color=\"red\")\nplt.legend();",
      "metadata": {
        "colab": {
          "base_uri": "https://localhost:8080/",
          "height": 430
        },
        "id": "shmwoQYGxMVE",
        "outputId": "959badfe-9be6-4b9b-a8de-6c0cbf1147cf",
        "jupyter": {
          "source_hidden": true,
          "outputs_hidden": true
        },
        "trusted": true,
        "collapsed": true
      },
      "outputs": [],
      "execution_count": null
    },
    {
      "cell_type": "code",
      "source": "# dane empiryczne\nimport matplotlib.pyplot as plt\nimport numpy as np\n\nx = np.array((1, 2, 3, 4, 5))\ny = np.array((-1, -2, 4, -1, 7))\nplt.figure()\nplt.scatter(x, y)\nplt.show()",
      "metadata": {
        "colab": {
          "base_uri": "https://localhost:8080/",
          "height": 430
        },
        "id": "tBBMSIofxYvA",
        "outputId": "6294edf1-924d-4bfa-e265-e42cd4e99fdb",
        "jupyter": {
          "source_hidden": true,
          "outputs_hidden": true
        },
        "trusted": true,
        "collapsed": true
      },
      "outputs": [],
      "execution_count": null
    },
    {
      "cell_type": "markdown",
      "source": "Zbiór wielu przykładów konstruowania wykresów w `matplotlib`: <https://matplotlib.org/stable/gallery/>",
      "metadata": {
        "id": "GP6wLEeo3byQ"
      }
    },
    {
      "cell_type": "code",
      "source": "",
      "metadata": {
        "trusted": true,
        "jupyter": {
          "source_hidden": true,
          "outputs_hidden": true
        },
        "collapsed": true
      },
      "outputs": [],
      "execution_count": null
    }
  ]
}