{
  "metadata": {
    "kernelspec": {
      "name": "python",
      "display_name": "Python (Pyodide)",
      "language": "python"
    },
    "language_info": {
      "codemirror_mode": {
        "name": "python",
        "version": 3
      },
      "file_extension": ".py",
      "mimetype": "text/x-python",
      "name": "python",
      "nbconvert_exporter": "python",
      "pygments_lexer": "ipython3",
      "version": "3.8"
    }
  },
  "nbformat_minor": 5,
  "nbformat": 4,
  "cells": [
    {
      "id": "cad4c345-4095-491c-8db1-33e98af4d8f2",
      "cell_type": "markdown",
      "source": "# SymPy: Badanie przebiegu zmienności funkcji\n\n* Imię i nazwisko, data: .....................................",
      "metadata": {}
    },
    {
      "id": "bea4fb7f-c917-4d17-9d07-28e26e95010c",
      "cell_type": "code",
      "source": "#import sympy as sym\nfrom sympy import *",
      "metadata": {
        "trusted": true
      },
      "outputs": [],
      "execution_count": 1
    },
    {
      "id": "bb1d83a8-f0ea-45ae-8df2-4d8b2a3be88d",
      "cell_type": "markdown",
      "source": "## Zadanie (mini-projekt)\n\nZbadaj przebieg zmienności funkcji jednej zmiennej rzeczywistej zadanej wzorem:\n\n$$f(x) = ...$$",
      "metadata": {}
    },
    {
      "id": "6333aab2-c8b7-4f4c-9eb8-cc4626d97769",
      "cell_type": "markdown",
      "source": "## Rozwiązanie",
      "metadata": {}
    },
    {
      "id": "77662023-75e4-4f4e-82af-7a756a1acde7",
      "cell_type": "markdown",
      "source": "### Krok 1. Dziedzina funkcji\n\nWyznacz i zapisz dziedzinę funkcji",
      "metadata": {}
    },
    {
      "id": "b1cc5714-85bc-42e0-9f79-f103ea5956b2",
      "cell_type": "code",
      "source": "# wykonaj stosowne obliczenia",
      "metadata": {
        "trusted": true
      },
      "outputs": [],
      "execution_count": null
    },
    {
      "id": "256d3706-0b44-401f-a1d9-d395ed6c331d",
      "cell_type": "markdown",
      "source": "### Krok 2. Szczególne punkty wykresu, właściwości funkcji\n\nWyznacz:\n- szczególne punkty wykresu: przecięcia z osiami OX oraz OY. \n- właściwości funkcji, które mozna odczytać ze wzoru (symetrie - parzystość, nieparzystość; cykliczność - okres, ...)\n\n",
      "metadata": {}
    },
    {
      "id": "a81ef7d1-f8b9-4536-b14a-7f9ccc6563e4",
      "cell_type": "code",
      "source": "# wykonaj stosowne obliczenia",
      "metadata": {
        "trusted": true
      },
      "outputs": [],
      "execution_count": null
    },
    {
      "id": "ea22b742-9cce-49b9-bb62-69db31b7aed2",
      "cell_type": "markdown",
      "source": "### Krok 3. Granice funkcji na krańcach dziedziny\n\nOkreśl zachowanie się funkcji na krańcach dziedziny (granice). Zbadaj istnienie asymptot: poziomych, ukośnych, pionowych\n",
      "metadata": {}
    },
    {
      "id": "ac52404f-a009-4f30-a892-33b3c3389520",
      "cell_type": "code",
      "source": "# wykonaj stosowne obliczenia",
      "metadata": {
        "trusted": true
      },
      "outputs": [],
      "execution_count": 4
    },
    {
      "id": "b648b33f-1ad2-4c63-b840-70635ca3c30d",
      "cell_type": "markdown",
      "source": "### Krok 4. Analiza I pochodnej",
      "metadata": {}
    },
    {
      "id": "47ecc4f1-b42c-47a9-9ea9-13774a557d1e",
      "cell_type": "markdown",
      "source": "#### 4.1. Funkcja pochodna\n\nWyznacz funkcję pochodną i podaj jej dziedzinę.",
      "metadata": {}
    },
    {
      "id": "cdeccd27-7ba4-4846-b09b-f79f27553b0a",
      "cell_type": "code",
      "source": "# wykonaj stosowne obliczenia",
      "metadata": {
        "trusted": true
      },
      "outputs": [],
      "execution_count": 5
    },
    {
      "id": "7f357ade-cf4e-4518-b23a-87cdf8c63927",
      "cell_type": "markdown",
      "source": "#### 4.2. Punkty stacjonarne\n\nWyznacz punkty stacjonarne i określ ich naturę (ekstrema lokalne, punkty przegięcia)",
      "metadata": {}
    },
    {
      "id": "73b77597-c86d-481c-b958-f99434476ade",
      "cell_type": "code",
      "source": "# wykonaj stosowne obliczenia",
      "metadata": {
        "trusted": true
      },
      "outputs": [],
      "execution_count": null
    },
    {
      "id": "2329e8a5-35dc-4f5f-90f1-a5b4495145be",
      "cell_type": "markdown",
      "source": "#### 4.3. Monotoniczność\n\nZbadaj monotoniczność funkcji. Narysuj wykres funkcji pochodnej.",
      "metadata": {}
    },
    {
      "id": "7cc20460-2fb9-4de2-8d9f-767d47927730",
      "cell_type": "markdown",
      "source": "### Krok 5. Analiza II pochodnej\n\nOblicz drugą pochodną i podaj jej dziedzinę. Narysuj wykres II pochodnej. Zbadaj kształt wykresu (wypukłość, wklęsłość)",
      "metadata": {}
    },
    {
      "id": "393b4ae0-fa21-4d5f-9578-edada3894e4f",
      "cell_type": "code",
      "source": "# wykonaj stosowne obliczenia",
      "metadata": {
        "trusted": true
      },
      "outputs": [],
      "execution_count": 6
    },
    {
      "id": "1c92000c-075d-4999-885f-cfb49a20558b",
      "cell_type": "markdown",
      "source": "### Krok 6. Tabelka funkcyjna i wykres\n\n- Zbierz wszystkie informacje i zamieść w formie tabelki\n- Sporządź finalny wykres funkcji",
      "metadata": {}
    },
    {
      "id": "9aeb76e5-1bd3-4c9e-bcad-280697114fbf",
      "cell_type": "code",
      "source": "# wykonaj stosowne obliczenia",
      "metadata": {
        "trusted": true
      },
      "outputs": [],
      "execution_count": 7
    },
    {
      "id": "1f9f5af9-617a-45ea-8178-04f3b5fb91fa",
      "cell_type": "code",
      "source": "",
      "metadata": {
        "trusted": true
      },
      "outputs": [],
      "execution_count": null
    }
  ]
}