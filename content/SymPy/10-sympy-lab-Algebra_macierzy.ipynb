{
  "cells": [
    {
      "cell_type": "markdown",
      "metadata": {
        "id": "pBiqbi8QurLK"
      },
      "source": [
        "# Algebra macierzy z SymPy"
      ]
    },
    {
      "cell_type": "markdown",
      "metadata": {
        "id": "y8vXIMG8veNf"
      },
      "source": [
        "* _Krzysztof Molenda_, v. 02\n",
        "\n",
        ":::{seealso} Referencje:\n",
        "\n",
        "* https://docs.sympy.org/latest/modules/matrices/matrices.html\n",
        "\n",
        ":::"
      ]
    },
    {
      "cell_type": "markdown",
      "metadata": {},
      "source": [
        "## Wprowadzenie\n",
        "\n",
        "Ćwiczenia z algebry liniowej, z użyciem pakietu SymPy.\n",
        "\n",
        "Wykonuj polecenia w kolejności, w jakiej są podane. Uruchamiaj kod, obserwując wyniki. Możesz zmieniać dane w kodzie, aby sprawdzić, co się stanie."
      ]
    },
    {
      "cell_type": "code",
      "execution_count": null,
      "metadata": {
        "id": "y633qaPFu5A0"
      },
      "outputs": [],
      "source": [
        "import sympy as sym\n",
        "from sympy import Matrix"
      ]
    },
    {
      "cell_type": "markdown",
      "metadata": {
        "id": "OFw6J2Lvu1zK"
      },
      "source": [
        "## Wektory"
      ]
    },
    {
      "cell_type": "markdown",
      "metadata": {
        "id": "05vsDl23w6yP"
      },
      "source": [
        "W SymPy wektory są 1-wymiarowymi macierzami (kolumnowymi lub wierszowymi, w zależności od kontekstu i konieczności użycia)"
      ]
    },
    {
      "cell_type": "code",
      "execution_count": null,
      "metadata": {
        "colab": {
          "base_uri": "https://localhost:8080/",
          "height": 98
        },
        "id": "Yc2A7u_Lup4z",
        "outputId": "d51ab5c0-48d1-4199-8ef2-978dbad02078"
      },
      "outputs": [],
      "source": [
        "from sympy import Matrix\n",
        "v = Matrix([1, 2, 3, 4])\n",
        "w = Matrix(4 , 1, [1, 2, 3, 4]) # zapis równoważny: (liczba wierszy, liczba kolumn, [lista wartości])\n",
        "w = Matrix( [ [1], [2], [3], [4] ] ) # zapis równoważny\n",
        "display(v, w)"
      ]
    },
    {
      "cell_type": "code",
      "execution_count": null,
      "metadata": {
        "colab": {
          "base_uri": "https://localhost:8080/",
          "height": 38
        },
        "id": "wk3aZJ0avyLB",
        "outputId": "a4c1af75-f8ea-420b-b449-95c1e5daf023"
      },
      "outputs": [],
      "source": [
        "u = Matrix(1, 4, [1,2,3,4]) # wektor: 1 wiersz, 4 kolumny\n",
        "display(u)"
      ]
    },
    {
      "cell_type": "markdown",
      "metadata": {},
      "source": [
        "### Iloczyn skalarny wektorów\n",
        "\n",
        ":::{prf:definition} Iloczyn skalarny wektorów\n",
        "\n",
        "**Iloczyn skalarny** (ang. *dot product*) dwóch $n$-wymiarowych wektorów to suma iloczynów ich odpowiednich współrzędnych. Dla wektorów $\\vec{a} = [a_1, a_2, ..., a_n]$ i $\\vec{b} = [b_1, b_2, ..., b_n]$:\n",
        "\n",
        "$$\n",
        "\\vec{a} \\cdot \\vec{b} = a_1 b_1 + a_2 b_2 + \\ldots + a_n b_n\n",
        "$$\n",
        "\n",
        ":::\n",
        "\n",
        "#### Znaczenie iloczynu skalarnego\n",
        "\n",
        "Iloczyn skalarny jest jednym z podstawowych narzędzi w matematyce i fizyce, służącym do analizy zależności między wektorami. Najważniejsze zastosowania:\n",
        "\n",
        "1. Wyznaczanie kąta między wektorami\n",
        "    Iloczyn skalarny pozwala obliczyć kąt pomiędzy dwoma wektorami za pomocą zależności trygonometrycznej:\n",
        "    $$\n",
        "    \\vec{a} \\cdot \\vec{b} = |\\vec{a}| \\cdot |\\vec{b}| \\cdot \\cos\\alpha\n",
        "    $$\n",
        "    gdzie $\\alpha$ to kąt między wektorami. Dzięki temu możemy określić, czy wektory są prostopadłe (iloczyn skalarny równy zero) lub zbadać zgodność ich kierunków.\n",
        "\n",
        "2. Sprawdzanie prostopadłości (ortogonalności) i równoległości\n",
        "    Jeśli iloczyn skalarny dwóch niezerowych wektorów wynosi zero, to są one prostopadłe. Ta własność jest szeroko wykorzystywana w geometrii analitycznej i analizie przestrzeni.\n",
        "\n",
        "3. Obliczanie pracy mechanicznej\n",
        "    W fizyce praca wykonana przez siłę podczas przesuwania ciała jest równa iloczynowi skalarnemu wektora siły i wektora przemieszczenia:\n",
        "    $$\n",
        "    W = \\vec{F} \\cdot \\vec{s}\n",
        "    $$\n",
        "    To kluczowa koncepcja w mechanice klasycznej.\n",
        "\n",
        "4. Projekcja wektora na inny wektor (rzutowanie)\n",
        "    Iloczyn skalarny umożliwia wyznaczenie rzutu jednego wektora na drugi, co jest ważne np. przy analizie składowych sił, prędkości czy innych wielkości wektorowych w fizyce i inżynierii.\n",
        "\n",
        "5. Analiza podobieństwa i zgodności kierunków\n",
        "    W analizie danych i uczeniu maszynowym iloczyn skalarny jest wykorzystywany do określania podobieństwa między wektorami cech, co jest kluczowe przy klasyfikacji i grupowaniu danych.\n",
        "\n",
        "6. Wyznaczanie długości wektora\n",
        "    Iloczyn skalarny wektora przez samego siebie daje kwadrat jego długości:\n",
        "    $$\n",
        "    \\vec{a} \\cdot \\vec{a} = |\\vec{a}|^2\n",
        "    $$\n",
        "    To pozwala łatwo obliczać długości i normy wektorów.\n",
        "\n",
        "\n",
        "#### Obliczanie w SymPy\n",
        "\n",
        "W SymPy do obliczenia iloczynu skalarnego służy metoda `.dot()`:\n",
        "\n",
        "```python\n",
        "from sympy import Matrix\n",
        "\n",
        "a = Matrix([1, 2, 3])\n",
        "b = Matrix([4, 5, 6])\n",
        "c = a.dot(b)\n",
        "print(c)\n",
        "```\n",
        "\n",
        "Wynikiem jest liczba (wyrażenie symboliczne lub liczba, zależnie od typu współrzędnych)."
      ]
    },
    {
      "cell_type": "code",
      "execution_count": null,
      "metadata": {},
      "outputs": [],
      "source": [
        "# Przykład z liczbami\n",
        "from sympy import Matrix\n",
        "\n",
        "v = Matrix([1, 2])\n",
        "w = Matrix([3, -5])\n",
        "iloczyn = v.dot(w)  # Wynik: 1*3 + 2*(-5) = 3 - 10 = -7\n",
        "display(iloczyn)"
      ]
    },
    {
      "cell_type": "code",
      "execution_count": null,
      "metadata": {},
      "outputs": [],
      "source": [
        "# Przykład z symbolami\n",
        "from sympy import symbols, Matrix\n",
        "\n",
        "x1, x2, y1, y2 = symbols('x1 x2 y1 y2')\n",
        "v = Matrix([x1, x2])\n",
        "w = Matrix([y1, y2])\n",
        "iloczyn = v.dot(w)  # Wynik: x1*y1 + x2*y2\n",
        "display(iloczyn)"
      ]
    },
    {
      "cell_type": "markdown",
      "metadata": {},
      "source": [
        "### Iloczyn wektorowy\n",
        "\n",
        "\n",
        "::::{prf:definition} Iloczyn wektorowy\n",
        "\n",
        ":::{important}\n",
        " Iloczyn wektorowy w klasycznym sensie jest zdefiniowany tylko dla **wektorów trójwymiarowych**.\n",
        ":::\n",
        "\n",
        "Iloczyn wektorowy dwóch wektorów 3D $\\vec{a} = [a_1, a_2, a_3]$ i $\\vec{b} = [b_1, b_2, b_3]$ to:\n",
        "\n",
        "$$\n",
        "\\vec{a} \\times \\vec{b} = \n",
        "\\begin{bmatrix}\n",
        "a_2 b_3 - a_3 b_2 \\\\\n",
        "a_3 b_1 - a_1 b_3 \\\\\n",
        "a_1 b_2 - a_2 b_1\n",
        "\\end{bmatrix}\n",
        "$$\n",
        "\n",
        "Wynikiem jest nowy wektor prostopadły do obu wektorów wejściowych.\n",
        "\n",
        "::::\n",
        "\n",
        "\n",
        "W SymPy do obliczenia iloczynu wektorowego służy metoda `.cross()`:\n",
        "\n",
        ":::{important}\n",
        "Próba użycia `.cross()` na wektorach innego wymiaru w SymPy zgłosi błąd lub nie zwróci oczekiwanego wyniku.\n",
        ":::\n",
        "\n",
        "**Do czego wykorzystujemy iloczyn wektorowy?**\n",
        "\n",
        "Iloczyn wektorowy jest szeroko wykorzystywany w matematyce, fizyce i inżynierii, szczególnie w przestrzeni trójwymiarowej. Oto najważniejsze zastosowania:\n",
        "\n",
        "1. Wyznaczanie wektora prostopadłego do dwóch zadanych wektorów  \n",
        "    Iloczyn wektorowy dwóch wektorów daje w wyniku nowy wektor, który jest prostopadły do obu wektorów wejściowych. Jest to kluczowe w geometrii analitycznej i analizie przestrzennej, np. do wyznaczania normalnej do płaszczyzny wyznaczonej przez dwa wektory.\n",
        "\n",
        "2. Obliczanie pola powierzchni równoległoboku i trójkąta  \n",
        "    Długość wektora będącego wynikiem iloczynu wektorowego odpowiada polu równoległoboku rozpiętego na dwóch wektorach. Z tego wynika także wzór na pole trójkąta jako połowa długości iloczynu wektorowego.\n",
        "\n",
        "3. Mechanika klasyczna – moment siły  \n",
        "    Moment siły względem punktu oblicza się jako iloczyn wektorowy wektora położenia i wektora siły:  \n",
        "    $$\\vec{M} = \\vec{r} \\times \\vec{F}$$  \n",
        "    Umożliwia to analizę ruchu obrotowego i równowagi układów mechanicznych.\n",
        "\n",
        "4. Elektrodynamika – siła Lorentza  \n",
        "    Iloczyn wektorowy opisuje siłę działającą na ładunek poruszający się w polu magnetycznym:  \n",
        "    $$\\vec{F} = q(\\vec{v} \\times \\vec{B})$$  \n",
        "    gdzie $q$ to ładunek, $\\vec{v}$ – prędkość, a $\\vec{B}$ – indukcja magnetyczna.\n",
        "\n",
        "5. Sprawdzanie równoległości i wyznaczanie współliniowości  \n",
        "    Jeśli iloczyn wektorowy dwóch niezerowych wektorów jest wektorem zerowym, to są one równoległe. To ważne w analizie geometrycznej i przy rozwiązywaniu zadań z geometrii przestrzennej.\n",
        "\n",
        "6. Wyznaczanie objętości równoległościanu (iloczyn mieszany)  \n",
        "    Iloczyn wektorowy jest wykorzystywany przy obliczaniu objętości równoległościanu rozpiętego przez trzy wektory (poprzez tzw. iloczyn mieszany)."
      ]
    },
    {
      "cell_type": "code",
      "execution_count": null,
      "metadata": {},
      "outputs": [],
      "source": [
        "from sympy import Matrix\n",
        "\n",
        "a = Matrix([1, 2, 3])\n",
        "b = Matrix([4, 5, 6])\n",
        "c = a.cross(b)  # Wynik: Matrix([[-3, 6, -3]])\n",
        "display(c)"
      ]
    },
    {
      "cell_type": "markdown",
      "metadata": {
        "id": "iHON_NZCxJMv"
      },
      "source": [
        "## Macierze"
      ]
    },
    {
      "cell_type": "markdown",
      "metadata": {
        "id": "wdKCFopPxmFZ"
      },
      "source": [
        "Macierz jest wektorem kolumnowym wektorów wierszowych o tej samej długości:"
      ]
    },
    {
      "cell_type": "code",
      "execution_count": null,
      "metadata": {
        "colab": {
          "base_uri": "https://localhost:8080/",
          "height": 58
        },
        "id": "x8hIrXmyxLWz",
        "outputId": "1bb79443-bd23-444c-92ec-1fa62f654c61"
      },
      "outputs": [],
      "source": [
        "M = Matrix( \n",
        "  [ \n",
        "    [0, 1, 2],\n",
        "    [1, 2, 3]\n",
        "  ]\n",
        "          )\n",
        "display(M)"
      ]
    },
    {
      "cell_type": "code",
      "execution_count": null,
      "metadata": {
        "colab": {
          "base_uri": "https://localhost:8080/",
          "height": 58
        },
        "id": "8KA6-Y2x7yH7",
        "outputId": "a1bcf23b-3565-4ca7-8ada-475899ec82f7"
      },
      "outputs": [],
      "source": [
        "M = Matrix( [ [0, 1, 2], [1, 2, 3] ])\n",
        "display(M)"
      ]
    },
    {
      "cell_type": "code",
      "execution_count": null,
      "metadata": {
        "colab": {
          "base_uri": "https://localhost:8080/",
          "height": 58
        },
        "id": "paGMJ6wsx0bs",
        "outputId": "f49d41ab-0c25-4873-a264-5a4e0e30101f"
      },
      "outputs": [],
      "source": [
        "M1 = Matrix(2, 3, [1, 2, 3, 4, 5, 6])\n",
        "display(M1)"
      ]
    },
    {
      "cell_type": "markdown",
      "metadata": {
        "id": "ODoc2sM6yCH1"
      },
      "source": [
        "Wiersze i kolumny macierzy indeksowane są od `0`"
      ]
    },
    {
      "cell_type": "code",
      "execution_count": null,
      "metadata": {
        "colab": {
          "base_uri": "https://localhost:8080/",
          "height": 37
        },
        "id": "uP5eFk4eyMLn",
        "outputId": "b62ee68f-962a-4a50-d24f-59e28decb0f1"
      },
      "outputs": [],
      "source": [
        "display(M1[0,0], M1[1,2])"
      ]
    },
    {
      "cell_type": "code",
      "execution_count": null,
      "metadata": {
        "id": "rQAGnrPhya0o"
      },
      "outputs": [],
      "source": [
        "display(M1[2, 3]) # IndexError"
      ]
    },
    {
      "cell_type": "markdown",
      "metadata": {
        "id": "Ywu3IWU0Yvgr"
      },
      "source": [
        "Macierz jednostkowa (kwadratowa) tworzona jest za pomocą funkcji `eye(n)` z podaniem jej rozmiaru"
      ]
    },
    {
      "cell_type": "code",
      "execution_count": null,
      "metadata": {
        "colab": {
          "base_uri": "https://localhost:8080/",
          "height": 98
        },
        "id": "009MeLidYd2W",
        "outputId": "c796a98a-6c77-44e8-f19b-f3bcc01d64c0"
      },
      "outputs": [],
      "source": [
        "import sympy as sym\n",
        "from sympy import Matrix\n",
        "I = sym.eye(4)\n",
        "display(I)"
      ]
    },
    {
      "cell_type": "markdown",
      "metadata": {
        "id": "c79Gl5vkZwLx"
      },
      "source": [
        "Macierz kwadratową diagonalną utworzymy za pomocą funkcji `diag()` przekazując jako parametry kolejne wartości umieszczane na przekątnej głównej:"
      ]
    },
    {
      "cell_type": "code",
      "execution_count": null,
      "metadata": {
        "colab": {
          "base_uri": "https://localhost:8080/",
          "height": 98
        },
        "id": "C2-tCdAFZ4JC",
        "outputId": "1e6e5929-3ead-43d8-ea7a-65e0abea7a10"
      },
      "outputs": [],
      "source": [
        "D1 = sym.diag(1, 2, 3, 4)\n",
        "display(D1)"
      ]
    },
    {
      "cell_type": "code",
      "execution_count": null,
      "metadata": {
        "colab": {
          "base_uri": "https://localhost:8080/",
          "height": 98
        },
        "id": "aZb8MU2Sahpe",
        "outputId": "94d4efb7-e486-40b9-abd0-17e2bca815e8"
      },
      "outputs": [],
      "source": [
        "lista = [1, 2, 3, 4]\n",
        "D2 = sym.diag(*lista) # wariant z operatorem rozpakowania listy - gwiazdka\n",
        "display(D2)"
      ]
    },
    {
      "cell_type": "markdown",
      "metadata": {
        "id": "XqQ4AFpCZK24"
      },
      "source": [
        "Również za pomocą dedykowanych funkcji możemy tworzyć macierze zerowe i jedynkowe:"
      ]
    },
    {
      "cell_type": "code",
      "execution_count": null,
      "metadata": {
        "colab": {
          "base_uri": "https://localhost:8080/",
          "height": 98
        },
        "id": "qXxD7Ye7ZS1j",
        "outputId": "7bdc10f2-9a35-4e72-a720-5a028f5d6019"
      },
      "outputs": [],
      "source": [
        "Z4 = sym.zeros(4) # macierz kwadratowa 4x4 wypełniona zerami\n",
        "display(Z4)"
      ]
    },
    {
      "cell_type": "code",
      "execution_count": null,
      "metadata": {
        "colab": {
          "base_uri": "https://localhost:8080/",
          "height": 58
        },
        "id": "TF_oZdV6Zio2",
        "outputId": "5556e41b-3dc0-4b9f-95a5-1de0ec97d2d7"
      },
      "outputs": [],
      "source": [
        "Z23 = sym.ones(2,3) # macierz jedynkowa o wymiarach 2x3\n",
        "display(Z23)"
      ]
    },
    {
      "cell_type": "markdown",
      "metadata": {
        "id": "cPYLb5kUY74L"
      },
      "source": [
        "Macierze mogą być inicjowane (wypełniane) za pomocą opracowanego algorytmu (np. w formie funkcji sparametryzowanej indeksami komórki macierzy). Przykładowo, macierz będąca tabliczką mnożenia"
      ]
    },
    {
      "cell_type": "code",
      "execution_count": null,
      "metadata": {
        "colab": {
          "base_uri": "https://localhost:8080/",
          "height": 241
        },
        "id": "Gyf0gXJZbO2l",
        "outputId": "3fddde34-bfd0-4680-faf1-5c4c1916d717"
      },
      "outputs": [],
      "source": [
        "def f(i, j):\n",
        "  return i*j\n",
        "\n",
        "TabliczkaMnozenia = Matrix(11, 11, f)\n",
        "display(TabliczkaMnozenia)"
      ]
    },
    {
      "cell_type": "markdown",
      "metadata": {
        "id": "qLiX8DP4esNV"
      },
      "source": [
        "Oczywiście możemy, dla zwartości zapisu, użyć notacji lambda:"
      ]
    },
    {
      "cell_type": "code",
      "execution_count": null,
      "metadata": {
        "colab": {
          "base_uri": "https://localhost:8080/",
          "height": 241
        },
        "id": "_iMcfSW3ew35",
        "outputId": "b0a112a3-7a74-43be-ce0a-a2fdac242840"
      },
      "outputs": [],
      "source": [
        "TabliczkaMnozenia = Matrix(11, 11, lambda i,j: i*j )\n",
        "display(TabliczkaMnozenia)"
      ]
    },
    {
      "cell_type": "markdown",
      "metadata": {},
      "source": [
        "Macierze są tablicami 2-wymiarowymi. Wiersze i kolumny są indeksowane od `0`. Na macierzach możemy stosować fragmentatory (_slicers_) - wynikami będą nowe macierze, które możemy dalej przetwarzać. Przykładowo, aby uzyskać drugą kolumnę macierzy `A` (indeks `1`), możemy użyć następującego zapisu:\n",
        "\n",
        "```python\n",
        "A[:, 1]\n",
        "```"
      ]
    },
    {
      "cell_type": "code",
      "execution_count": null,
      "metadata": {},
      "outputs": [],
      "source": [
        "display(TabliczkaMnozenia[5, :]) # szósty wiersz\n",
        "display(TabliczkaMnozenia[:, 5]) # szósta kolumna\n",
        "display(TabliczkaMnozenia[4:9, 0:5]) # fragment tabliczki"
      ]
    },
    {
      "cell_type": "markdown",
      "metadata": {
        "id": "VEbhrr7F8UpC"
      },
      "source": [
        "### Algebra macierzy"
      ]
    },
    {
      "cell_type": "markdown",
      "metadata": {
        "id": "t_DfDz2Z8at7"
      },
      "source": [
        "#### Dodawanie, odejmowanie macierzy zgodnych\n",
        "\n",
        ":::{prf: definition} Dodawanie (odejmowanie) macierzy\n",
        "\n",
        "Dodawanie (odejmowanie) macierzy polega na sumowaniu odpowiadających sobie elementów dwóch macierzy **o tych samych wymiarach**. \n",
        "Wynikiem jest nowa macierz, w której każdy element to suma odpowiednich elementów macierzy wejściowych.\n",
        "\n",
        ":::\n",
        "\n",
        "W Sympy dodawanie i odejmowanie macierzy realizowane jest za pomocą operatorów `+` i `-`. Przykład:\n",
        "\n",
        "```python\n",
        "from sympy import Matrix\n",
        "\n",
        "A = Matrix([[1, 2], [3, 4]])\n",
        "B = Matrix([[5, 6], [7, 8]])\n",
        "C = A + B\n",
        "display(C)\n",
        "D = A - B\n",
        "display(D)\n",
        "```"
      ]
    },
    {
      "cell_type": "code",
      "execution_count": null,
      "metadata": {},
      "outputs": [],
      "source": [
        "from sympy import Matrix\n",
        "\n",
        "A = Matrix([[1, 2], [3, 4]])\n",
        "B = Matrix([[5, 6], [7, 8]])\n",
        "C = A + B\n",
        "display(C)\n",
        "D = A - B\n",
        "display(D)"
      ]
    },
    {
      "cell_type": "code",
      "execution_count": null,
      "metadata": {
        "colab": {
          "base_uri": "https://localhost:8080/",
          "height": 58
        },
        "id": "9sZxmvWW8ycR",
        "outputId": "f856d872-9990-4e8f-ec85-0ac81bd7c012"
      },
      "outputs": [],
      "source": [
        "a, b, c = sym.symbols('a b c')\n",
        "A = Matrix( [ [a, 2*b, 3*c], [4*a, 5*b, 6*c] ] )\n",
        "B = Matrix( [ [-a, -2*b, -3*c], [-4, -5, 6] ] )\n",
        "C = Matrix( [ [0, 1, 0], [0, 1, 1] ] )\n",
        "D = A + B - C\n",
        "display(A, B, C, D)"
      ]
    },
    {
      "cell_type": "markdown",
      "metadata": {
        "id": "nYMLHNskLWTK"
      },
      "source": [
        "#### Mnożenie macierzy przez skalar"
      ]
    },
    {
      "cell_type": "markdown",
      "metadata": {},
      "source": [
        ":::{prf:definition} Mnożenie macierzy przez skalar\n",
        "\n",
        "Mnożenie macierzy przez skalar polega na pomnożeniu każdego elementu macierzy przez tę liczbę.\n",
        "\n",
        "Dla macierzy:\n",
        "$$\n",
        "A = \\begin{bmatrix}\n",
        "a_{11} & a_{12} \\\\\n",
        "a_{21} & a_{22}\n",
        "\\end{bmatrix}\n",
        "$$\n",
        "\n",
        "oraz skalara $k$, wynik mnożenia to:\n",
        "\n",
        "$$\n",
        "k \\cdot A = \\begin{bmatrix}\n",
        "k a_{11} & k a_{12} \\\\\n",
        "k a_{21} & k a_{22}\n",
        "\\end{bmatrix}\n",
        "$$\n",
        "\n",
        ":::\n",
        "\n",
        "W SymPy operatorem mnożenia macierzy przez skalar jest `*`: \n",
        "\n",
        "```python\n",
        "from sympy import Matrix\n",
        "\n",
        "A = Matrix([[1, 2], [3, 4]])\n",
        "k = 5\n",
        "B = k * A  # lub: B = A * k\n",
        "display(B)\n",
        "```"
      ]
    },
    {
      "cell_type": "code",
      "execution_count": null,
      "metadata": {
        "colab": {
          "base_uri": "https://localhost:8080/",
          "height": 58
        },
        "id": "0quWG8XXKWe3",
        "outputId": "de390dcf-a66f-4aa2-800a-92023cf7e026"
      },
      "outputs": [],
      "source": [
        "A = Matrix( [ [ 1/2, 1/2 ] , [1, -1] ] )\n",
        "display(A)"
      ]
    },
    {
      "cell_type": "markdown",
      "metadata": {},
      "source": [
        ":::{admonition} Dygresja\n",
        ":class: tip\n",
        "\n",
        "Zapis `1/2` oznacza w Pythonie dzielenie, a nie liczbę wymierną. W związku z tym otrzymamy wynik `0.5` (liczba zmiennoprzecinkowa), a nie $\\frac{1}{2}$ (liczba wymierna).\n",
        "\n",
        "Aby wymusić traktowanie zapisu `1/2` jako liczby wymiernej, należy użyć funkcji `Rational()`\n",
        "\n",
        "```python\n",
        "from sympy import Rational\n",
        "polowa = Rational(1, 2)\n",
        "A = Matrix([[polowa, polowa], [1, -1]])\n",
        "display(A)\n",
        "```\n",
        "\n",
        "lub jawnie zdefiniować symbol $\\frac{1}{2}$ jako liczbę wymierną:\n",
        "    \n",
        "```python\n",
        "import sympy as sym\n",
        "polowa = sym.S(1)/sym.S(2) # sym.S(1) - symboliczna liczba 1\n",
        "A = Matrix([[polowa, polowa], [3, 4]])\n",
        "display(A)\n",
        "```\n",
        "\n",
        "W praktyce zamiast `sym.S(1)/sym.S(2)` można użyć `sym.S(1)/2`. Ponieważ licznik jest symbolem, SymPy automatycznie wykona konwersję zapisu `sym.S(1)/2` na wyrażenie symboliczne (tzn. potraktuje `2` jako symbol oraz `/` jako operator dzielenia symbolicznego).\n",
        "\n",
        ":::"
      ]
    },
    {
      "cell_type": "code",
      "execution_count": null,
      "metadata": {},
      "outputs": [],
      "source": [
        "from sympy import Rational\n",
        "polowa = Rational(1, 2)\n",
        "A = Matrix([[polowa, polowa], [1, -1]])\n",
        "display(A)"
      ]
    },
    {
      "cell_type": "code",
      "execution_count": null,
      "metadata": {},
      "outputs": [],
      "source": [
        "A = Matrix( [ [ sym.S(1)/2, sym.S(1)/2 ] , [1, -1] ] )\n",
        "display(A)"
      ]
    },
    {
      "cell_type": "code",
      "execution_count": null,
      "metadata": {
        "colab": {
          "base_uri": "https://localhost:8080/",
          "height": 58
        },
        "id": "CiIEPSXHLtSR",
        "outputId": "afabdb72-7fd3-49c2-9ae6-52dc256d229f"
      },
      "outputs": [],
      "source": [
        "B = 2 * A\n",
        "display(B)"
      ]
    },
    {
      "cell_type": "markdown",
      "metadata": {
        "id": "aEp15vscLz5-"
      },
      "source": [
        "#### Mnożenie macierzy przez macierz\n",
        "\n",
        "Macierze muszą być odpowiednich rozmiarów (liczba kolumn macierzy pierwszej musi być zgodna z liczbą wierszy macierzy drugiej).\n",
        "\n",
        "Do mnożenia macierzy używamy operatora `@` lub `*`"
      ]
    },
    {
      "cell_type": "code",
      "execution_count": null,
      "metadata": {
        "colab": {
          "base_uri": "https://localhost:8080/",
          "height": 213
        },
        "id": "jYPL_mtjMNdB",
        "outputId": "be219f00-7008-400c-923d-e27336f2e897"
      },
      "outputs": [],
      "source": [
        "A = Matrix( [ [1, 2, 3], [4, 5, 6] ] )\n",
        "B = Matrix( [ [-1, -2], [3, -3], [5, 6] ] )\n",
        "C = A @ B\n",
        "print(A, \"@\" , B, \"=\", C)\n",
        "display(C)"
      ]
    },
    {
      "cell_type": "code",
      "execution_count": null,
      "metadata": {},
      "outputs": [],
      "source": [
        "# generowanie wydruku w LaTeX - dla poprzednich obliczeń\n",
        "from sympy import latex\n",
        "from IPython.display import Math\n",
        "latexA = latex(A) # konwersja do LaTeX\n",
        "latexB = latex(B) # konwersja do LaTeX\n",
        "latexC = latex(C) # konwersja do LaTeX\n",
        "display(Math(f\"{latexA} * {latexB} = {latexC}\"))"
      ]
    },
    {
      "cell_type": "markdown",
      "metadata": {
        "id": "xKDfvYLcPExw"
      },
      "source": [
        "#### Wyznacznik macierzy\n",
        "\n",
        "Można go obliczyć wyłącznie dla macierzy kwadratowych"
      ]
    },
    {
      "cell_type": "code",
      "execution_count": null,
      "metadata": {
        "colab": {
          "base_uri": "https://localhost:8080/",
          "height": 37
        },
        "id": "O0yfdh7UPMO1",
        "outputId": "5b8525f9-b4f3-45bb-8456-7db480f8f1fa"
      },
      "outputs": [],
      "source": [
        "A = Matrix([[1, 5], [5, 1]])\n",
        "d1 = A.det()    # wyznacznik macierzy A (metoda obiektu)\n",
        "d2 = sym.det(A) # zapis równoważny (funkcja z modułu sympy)\n",
        "display(d1, d2)\n",
        "\n",
        "rownanieLatex = f\"\\\\det \\\\left( {latex(A)} \\\\right) = {d1}\"\n",
        "print(rownanieLatex)\n",
        "display(Math(rownanieLatex)) # wyznacznik macierzy A w LaTeX"
      ]
    },
    {
      "cell_type": "markdown",
      "metadata": {
        "id": "UCQIhms4O6MY"
      },
      "source": [
        "#### Macierz odwrotna\n",
        "\n",
        "Można ją wyznaczać wyłącznie dla macierzy kwadratowych"
      ]
    },
    {
      "cell_type": "code",
      "execution_count": null,
      "metadata": {
        "colab": {
          "base_uri": "https://localhost:8080/",
          "height": 58
        },
        "id": "onhOf1OYO443",
        "outputId": "5e0641ca-f8cf-450a-c46f-f83d8744f303"
      },
      "outputs": [],
      "source": [
        "A = Matrix([[sym.S(1) / 2, 1], [5, 0]])\n",
        "A.inv()"
      ]
    },
    {
      "cell_type": "markdown",
      "metadata": {
        "id": "Jc3DQmo1hU-f"
      },
      "source": [
        "#### Rząd macierzy"
      ]
    },
    {
      "cell_type": "code",
      "execution_count": null,
      "metadata": {
        "colab": {
          "base_uri": "https://localhost:8080/",
          "height": 95
        },
        "id": "X4l0m2EdhdCc",
        "outputId": "e106f6d1-19db-4bd5-845c-7dab4f0d0cda"
      },
      "outputs": [],
      "source": [
        "A = Matrix(3, 3, range(1, 10))\n",
        "display(A)\n",
        "A.rank()"
      ]
    },
    {
      "cell_type": "markdown",
      "metadata": {
        "id": "DWgdJlFgpamT"
      },
      "source": [
        "#### Minor (i, j)\n",
        "\n",
        "`minor(i, j)` to wyznacznik podmacierzy powstałej w wyniku usunięcia z macierzy danej $i$-tego wiersza oraz $j$-tej kolumny.\n",
        "\n",
        "`minor_submatrix(i,j)` jest metodą zwracającą tę podmacierz"
      ]
    },
    {
      "cell_type": "code",
      "execution_count": null,
      "metadata": {},
      "outputs": [],
      "source": [
        "M = Matrix([[1, 2, 3, 4], [4, 5, 6, 7], [7, 8, 9, 0], [0, 1, 2, 3]])\n",
        "display(M)"
      ]
    },
    {
      "cell_type": "code",
      "execution_count": null,
      "metadata": {},
      "outputs": [],
      "source": [
        "# minor[1,2] = wyznacznik macierzy 3x3 powstałej z M przez usunięcie 1. wiersza i 2. kolumny\n",
        "display(M.minor(1, 2)) # liczba "
      ]
    },
    {
      "cell_type": "code",
      "execution_count": null,
      "metadata": {},
      "outputs": [],
      "source": [
        "# Ręczne obliczenia\n",
        "i = 1 # indeks wiersza\n",
        "j = 2 # indeks kolumny\n",
        "M12 = M[:i, :].col_join(M[i+1:, :])   # usunięcie i-tego wiersza\n",
        "M12 = M12[:, :j].row_join(M12[:, j+1:]) # usunięcie j-tej kolumny\n",
        "display(M12)\n",
        "display(M12.det()) # wyznacznik minora[1, 2]"
      ]
    },
    {
      "cell_type": "code",
      "execution_count": null,
      "metadata": {
        "colab": {
          "base_uri": "https://localhost:8080/",
          "height": 159
        },
        "id": "JsfDa6u4px0Z",
        "outputId": "25a0ce33-df11-4924-ffeb-37c95c1877e3"
      },
      "outputs": [],
      "source": [
        "# minor_submatrix(i,j) = macierz powstała z M przez usunięcie i-tego wiersza i j-tej kolumny\n",
        "M12 = M.minor_submatrix(1,2)\n",
        "display(M12)\n",
        "display(M12.det())"
      ]
    },
    {
      "cell_type": "markdown",
      "metadata": {},
      "source": [
        "### Ćwiczenia"
      ]
    },
    {
      "cell_type": "markdown",
      "metadata": {
        "id": "7KF47dJURMVF"
      },
      "source": [
        "#### Ćwiczenie. Macierz odwrotna"
      ]
    },
    {
      "cell_type": "markdown",
      "metadata": {
        "id": "1feFd7kDQiU0"
      },
      "source": [
        "Dla macierzy $A=\\begin{bmatrix}a & 1 & 1\\\\ 1 & a & 1\\\\ 1 & 1 & 2\\end{bmatrix}$\n",
        "\n",
        "1. Oblicz wyznacznik macierzy $A$\n",
        "2. Znajdź wartości $a$ dla których macierz $A$ jest _osobliwa_ (jej wyznacznik jest równy $0$)\n",
        "3. Dla wyznaczonych wartości parametru $a$ nie można obliczać macierzy odwrotnej.\n",
        "4. Wyznacz wzór dla macierzy odwrotnej $A^{-1}$\n",
        "5. Oblicz macierze odwrotne dla $a=2$ oraz $a=3$\n",
        "6. Sprawdź, że dla $a=2$ spełnione są równania $AA^{-1}=I$ oraz $A^{-1}A=I$"
      ]
    },
    {
      "cell_type": "code",
      "execution_count": null,
      "metadata": {
        "colab": {
          "base_uri": "https://localhost:8080/",
          "height": 120
        },
        "id": "srQ2JCEWSMV_",
        "outputId": "5b8fc693-b3d6-4b30-834e-62104645920f"
      },
      "outputs": [],
      "source": [
        "a = sym.Symbol(\"a\") # deklaracja symbolu\n",
        "A = sym.Matrix([[a, 1, 1], [1, a, 1], [1, 1, 2]])\n",
        "display(A)\n",
        "\n",
        "wyznacznik = A.det() # obliczenie wyznacznika\n",
        "display(wyznacznik)\n",
        "\n",
        "rozwiazania = sym.solveset(wyznacznik, a) # wyznaczenie zbioru rozwiązań\n",
        "display(rozwiazania)"
      ]
    },
    {
      "cell_type": "code",
      "execution_count": null,
      "metadata": {
        "colab": {
          "base_uri": "https://localhost:8080/",
          "height": 80
        },
        "id": "8TBer-gQVjPi",
        "outputId": "193e2231-761f-41ad-97e8-27eac89865e2"
      },
      "outputs": [],
      "source": [
        "A.inv()"
      ]
    },
    {
      "cell_type": "code",
      "execution_count": null,
      "metadata": {
        "colab": {
          "base_uri": "https://localhost:8080/",
          "height": 78
        },
        "id": "hzkvFMjsXRKB",
        "outputId": "97b54f06-8116-4025-bdf2-969f182a46a6"
      },
      "outputs": [],
      "source": [
        "A.subs({a: 2}).inv() # subs({a: 2}) = zastąp symbol a liczbą 2"
      ]
    },
    {
      "cell_type": "code",
      "execution_count": null,
      "metadata": {
        "colab": {
          "base_uri": "https://localhost:8080/",
          "height": 78
        },
        "id": "bgmyQ7TWXfGX",
        "outputId": "1801aee9-bde8-43d2-8a28-84498cac91f7"
      },
      "outputs": [],
      "source": [
        "A.subs({a: 3}).inv()"
      ]
    },
    {
      "cell_type": "code",
      "execution_count": null,
      "metadata": {
        "colab": {
          "base_uri": "https://localhost:8080/",
          "height": 139
        },
        "id": "bxn_U3rXY_WO",
        "outputId": "49ff1d0c-bd0e-470f-fff8-3a78e4780b14"
      },
      "outputs": [],
      "source": [
        "A2 = A.subs({a:2})\n",
        "display( A2 @ A2.inv() )\n",
        "display( A2.inv() @ A2 )"
      ]
    },
    {
      "cell_type": "markdown",
      "metadata": {
        "id": "3A8Sc6z9Zbm2"
      },
      "source": [
        "#### Ćwiczenie. Układ równań Cramera"
      ]
    },
    {
      "cell_type": "markdown",
      "metadata": {
        "id": "K6dPmGFSZkIb"
      },
      "source": [
        "Rozwiąż układ równań\n",
        "\n",
        "$$\n",
        "\\begin{split}\n",
        "    \\begin{array}{l}\n",
        "        ax + 2y = 3\\\\\n",
        "        3x + y + 2z = 4\\\\\n",
        "        -y + z = 1\\\\\n",
        "    \\end{array}\n",
        "\\end{split}\n",
        "$$"
      ]
    },
    {
      "cell_type": "markdown",
      "metadata": {
        "id": "dESwc6f5bLG6"
      },
      "source": [
        "Zapisujemy równanie w formie macierzowej: $AX=b$, gdzie $A$ jest macierzą współczynników, $X$ wektorem niewiadomych oraz $b$ wektorem wyrazów wolnych"
      ]
    },
    {
      "cell_type": "code",
      "execution_count": null,
      "metadata": {
        "colab": {
          "base_uri": "https://localhost:8080/",
          "height": 261
        },
        "id": "cCaV8_bjZsBE",
        "outputId": "19614ce9-66ae-43ef-af16-0e568352f377"
      },
      "outputs": [],
      "source": [
        "# definiowanie zapisu macierzowego\n",
        "A = Matrix([[1, 2, 0], [3, 1, 2], [0, -1, 1]])\n",
        "display(A)\n",
        "\n",
        "b = Matrix([3, 4, 1])\n",
        "display(b)\n",
        "\n",
        "x, y, z = sym.symbols(\"x,y,z\")\n",
        "X = Matrix( [x, y, z] )\n",
        "display(X)\n",
        "\n",
        "display( A @ X ) # sprawdzenie"
      ]
    },
    {
      "cell_type": "code",
      "execution_count": null,
      "metadata": {
        "colab": {
          "base_uri": "https://localhost:8080/",
          "height": 99
        },
        "id": "bIhs4hvlh5_f",
        "outputId": "541aeff4-4ae1-4264-cbd9-a9a5d3ddffcb"
      },
      "outputs": [],
      "source": [
        "# Sprawdzamy, czy układ ma rozwiązania (niezerowy wyznacznik)\n",
        "display( A.det() )"
      ]
    },
    {
      "cell_type": "code",
      "execution_count": null,
      "metadata": {
        "colab": {
          "base_uri": "https://localhost:8080/",
          "height": 78
        },
        "id": "AqQQnYOkiEo3",
        "outputId": "299c70e5-1a58-42cf-f1e7-57bb49e6762f"
      },
      "outputs": [],
      "source": [
        "# Wyznaczamy rozwiązanie metodą macierzy odwrotnej\n",
        "X = A.inv() @ b\n",
        "display(X)"
      ]
    },
    {
      "cell_type": "markdown",
      "metadata": {
        "id": "Bxvzpl1WtdMF"
      },
      "source": [
        "#### Ćwiczenie. Układ równań (tw. Kroneckera-Capellego)"
      ]
    },
    {
      "cell_type": "markdown",
      "metadata": {
        "id": "aLCTd3yc57PS"
      },
      "source": [
        "Rozwiąż układ równań:\n",
        "\n",
        "$$\n",
        "\\begin{split}\n",
        "          \\begin{array}{l}\n",
        "              x_1 + x_2 - x_3 + x_4 = 1\\\\\n",
        "              2x_1 + 2x_2 - 2x_3 + 2x_4 = 2\\\\\n",
        "              x_1 + x_2 + x_3 - x_4 = 2\\\\\n",
        "              3x_1 + 3x_2 + x_3 - x_4 = 5\n",
        "          \\end{array}\n",
        "      \\end{split}\n",
        "$$"
      ]
    },
    {
      "cell_type": "markdown",
      "metadata": {
        "id": "lR3Ltr3gzfmE"
      },
      "source": [
        "Defniujemy macierzową postać układu równań: $A$ - macierz współczynników, $b$ - wektor wyrazów wolnych"
      ]
    },
    {
      "cell_type": "code",
      "execution_count": null,
      "metadata": {
        "colab": {
          "base_uri": "https://localhost:8080/",
          "height": 98
        },
        "id": "RHrSYSYQtiQr",
        "outputId": "98509489-06f3-4d2d-f07d-604531707e56"
      },
      "outputs": [],
      "source": [
        "A = Matrix( [\n",
        "     [1, 1, -1, 1],\n",
        "     [2, 2, -2, 2],\n",
        "     [1, 1, 1, -1],\n",
        "     [3, 3, 1, -1]\n",
        "])\n",
        "display(A)"
      ]
    },
    {
      "cell_type": "code",
      "execution_count": null,
      "metadata": {
        "colab": {
          "base_uri": "https://localhost:8080/",
          "height": 98
        },
        "id": "Ik6fpK36uCqz",
        "outputId": "64751fed-c43e-4bed-e9c9-9bc2d0970834"
      },
      "outputs": [],
      "source": [
        "b = Matrix([1, 2, 2, 5])\n",
        "display(b)"
      ]
    },
    {
      "cell_type": "markdown",
      "metadata": {
        "id": "JyqqpsBdztWT"
      },
      "source": [
        "Definiujemy macierz rozszerzoną o wektor wyrazów wolnych: $[A |b]$"
      ]
    },
    {
      "cell_type": "code",
      "execution_count": null,
      "metadata": {
        "colab": {
          "base_uri": "https://localhost:8080/",
          "height": 98
        },
        "id": "WwoHF1btuSqR",
        "outputId": "f000019e-2a92-43d7-8fff-b258b27c8dfb"
      },
      "outputs": [],
      "source": [
        "Ab = A.row_join(b)\n",
        "display(Ab)"
      ]
    },
    {
      "cell_type": "markdown",
      "metadata": {
        "id": "_RlVu9iyzzCn"
      },
      "source": [
        "Sprawdzamy rzędy macierzy $A$ oraz $[A|b]$"
      ]
    },
    {
      "cell_type": "code",
      "execution_count": null,
      "metadata": {
        "colab": {
          "base_uri": "https://localhost:8080/",
          "height": 52
        },
        "id": "Kp8IMAgJwZC4",
        "outputId": "702d4cd1-551a-4978-9168-c2619e7cb5d3"
      },
      "outputs": [],
      "source": [
        "display( A.rank() )\n",
        "display( Ab.rank() )"
      ]
    },
    {
      "cell_type": "markdown",
      "metadata": {
        "id": "b-D-wjBV0Bji"
      },
      "source": [
        "Ponieważ $rank(A) = rank([A|b])=2$, więc:\n",
        "\n",
        "* układ ma rozwiązanie (z tw. Kroneckera-Capellego)\n",
        "* układ ma nieskończenie wiele rozwiązań, ponieważ rząd ten jest mniejszy od $4$\n",
        "* możemy te rozwiązania wyznaczyć, odrzucając $4-2=2$ równania z układu (ustalając niezerowy minor rozmiaru $2$)"
      ]
    },
    {
      "cell_type": "code",
      "execution_count": null,
      "metadata": {
        "colab": {
          "base_uri": "https://localhost:8080/",
          "height": 78
        },
        "id": "rf9DK1Gywjox",
        "outputId": "21a20402-139e-4401-cbe5-4c824da42f90"
      },
      "outputs": [],
      "source": [
        "M = A[2:4, 1:3]\n",
        "display(M)\n",
        "display(M.det())"
      ]
    },
    {
      "cell_type": "markdown",
      "metadata": {
        "id": "P8r-juDb2WEc"
      },
      "source": [
        "Z macierzy $A$ odrzucamy dwa pierwsze wiersze oraz przenosimy kolumnę pierwszą i ostatnią na prawą stronę równania: "
      ]
    },
    {
      "cell_type": "markdown",
      "metadata": {
        "id": "WjYXJYNc2vhP"
      },
      "source": [
        "$$\n",
        "\\begin{bmatrix}\n",
        "    1 & 1 \\\\\n",
        "    3 & 1\n",
        "\\end{bmatrix}\n",
        "\\cdot\n",
        "\\begin{bmatrix}\n",
        "    x_2 \\\\\n",
        "    x_3\n",
        "\\end{bmatrix}\n",
        "=\n",
        "\\begin{bmatrix}\n",
        "    2 - x_1 + x_4 \\\\\n",
        "    5 - 3x_1 + x_4\n",
        "\\end{bmatrix}\n",
        "$$"
      ]
    },
    {
      "cell_type": "markdown",
      "metadata": {
        "id": "KTu_Gx533E72"
      },
      "source": [
        "Otrzymaliśmy układ Cramera:\n",
        "\n"
      ]
    },
    {
      "cell_type": "code",
      "execution_count": null,
      "metadata": {
        "colab": {
          "base_uri": "https://localhost:8080/",
          "height": 139
        },
        "id": "EdmjTvN72puV",
        "outputId": "5e7adf4b-ef98-4352-a206-d34bdb6b616b"
      },
      "outputs": [],
      "source": [
        "x_1, x_4 = sym.symbols('x_1, x_4')\n",
        "bM = Matrix( [2-x_1+x_4, 5-3*x_1+x_4] )\n",
        "display(M)\n",
        "display(bM)\n",
        "\n",
        "X = M.inv() @ bM\n",
        "display(X)"
      ]
    },
    {
      "cell_type": "markdown",
      "metadata": {
        "id": "2ik-WuZs9YNX"
      },
      "source": [
        "Przyjmując, że $x_1=s, x_4=t$ gdzie $s, t$ są dowolnymi liczbami rzeczywistymi, rozwiązaniem układu jest czwórka liczb:\n",
        "\n",
        "$$\n",
        "\\begin{split}\n",
        "  \\begin{array}{l}\n",
        "    x_1 = s\\\\\n",
        "    x_2 = \\frac{1}{2} - s\\\\\n",
        "    x_3 = \\frac{1}{2} + t\\\\\n",
        "    x_4 = t\n",
        "  \\end{array}\n",
        "\\end{split}\n",
        "$$"
      ]
    },
    {
      "cell_type": "markdown",
      "metadata": {
        "id": "QPR_W570eqgM"
      },
      "source": [
        "---\n",
        "\n",
        "## Zadania"
      ]
    },
    {
      "cell_type": "markdown",
      "metadata": {},
      "source": [
        "Rozwiąż poniższe zadania, korzystając z pakietu SymPy. Wykonaj obliczenia symbolicznie.\n",
        "\n",
        "**Podaj swoje imię i nazwisko**: .................................................."
      ]
    },
    {
      "cell_type": "markdown",
      "metadata": {
        "id": "4bccvxbMeteM"
      },
      "source": [
        "### Zadanie 1\n",
        "\n",
        "Dany jest układ równań:\n",
        "$$\n",
        "\\begin{split}\n",
        "          \\begin{array}{l}\n",
        "              a x + 4y + 2z= 3a\\\\\n",
        "              x + a y = 1\\\\\n",
        "              x + 2y + z = 3\\\\\n",
        "          \\end{array}\n",
        "      \\end{split}\n",
        "$$\n",
        "\n",
        "Dla jakich wartości $a$ ma on dokładnie jedno rozwiązanie? Wyznacz to rozwiązanie (podaj wzory dla $x, y, z$ uzależnione od $a$)"
      ]
    },
    {
      "cell_type": "code",
      "execution_count": null,
      "metadata": {},
      "outputs": [],
      "source": [
        "# rozwiąż"
      ]
    },
    {
      "cell_type": "markdown",
      "metadata": {
        "id": "YPtflzQ9gbvh"
      },
      "source": [
        "### Zadanie 2\n",
        "\n",
        "Dany jest układ równań:\n",
        "$$\n",
        "\\begin{split}\n",
        "   \\begin{array}{l}\n",
        "       a x + 2y = 3\\\\\n",
        "       3x + y + 2z = 4\\\\\n",
        "       - y + z = 1\\\\\n",
        "   \\end{array}\n",
        "\\end{split}\n",
        "$$\n",
        "\n",
        "Dla jakich wartości $a$ ma on dokładnie jedno rozwiązanie? Wyznacz to rozwiązanie (podaj wzory dla $x, y, z$ uzależnione od $a$)"
      ]
    },
    {
      "cell_type": "code",
      "execution_count": null,
      "metadata": {},
      "outputs": [],
      "source": [
        "# rozwiąż"
      ]
    },
    {
      "cell_type": "markdown",
      "metadata": {
        "id": "Ij_c7tiJ-VEK"
      },
      "source": [
        "### Zadanie 3\n",
        "\n",
        "Rozwiąż układ równań:\n",
        "\n",
        "$$\n",
        "\\begin{split}\n",
        "          \\begin{array}{l}\n",
        "              x - 2y - 2z - t + s = -3\\\\\n",
        "              3x-y-6z+2t=1\\\\\n",
        "              2x-y-3z+3s=-3\\\\\n",
        "          \\end{array}\n",
        "      \\end{split}\n",
        "$$"
      ]
    },
    {
      "cell_type": "code",
      "execution_count": null,
      "metadata": {},
      "outputs": [],
      "source": [
        "# rozwiąż"
      ]
    },
    {
      "cell_type": "markdown",
      "metadata": {
        "id": "OgTTc_9s-8Hb"
      },
      "source": [
        "### Zadanie 4\n",
        "\n",
        "Zbadaj, dla jakich wartości $a$ istnieje rozwiązanie układu równań:\n",
        "\n",
        "$$\n",
        "\\begin{split}\n",
        "          \\begin{array}{l}\n",
        "              x + 3y - z = 1\\\\\n",
        "              a^2 x - y + 2z = -a\\\\\n",
        "              3x+y+z=3\\\\\n",
        "          \\end{array}\n",
        "      \\end{split}\n",
        "$$\n",
        "\n",
        "Wyznacz to rozwiązanie."
      ]
    },
    {
      "cell_type": "code",
      "execution_count": null,
      "metadata": {
        "id": "-x481N0fghL5"
      },
      "outputs": [],
      "source": [
        "# rozwiąż"
      ]
    }
  ],
  "metadata": {
    "colab": {
      "authorship_tag": "ABX9TyNQgIMaLcDW4B1mRJWxpfNM",
      "collapsed_sections": [],
      "include_colab_link": true,
      "name": "Algebra macierzy z SymPy.ipynb",
      "provenance": []
    },
    "kernelspec": {
      "display_name": "Python 3",
      "name": "python3"
    },
    "language_info": {
      "codemirror_mode": {
        "name": "ipython",
        "version": 3
      },
      "file_extension": ".py",
      "mimetype": "text/x-python",
      "name": "python",
      "nbconvert_exporter": "python",
      "pygments_lexer": "ipython3",
      "version": "3.13.2"
    }
  },
  "nbformat": 4,
  "nbformat_minor": 0
}
